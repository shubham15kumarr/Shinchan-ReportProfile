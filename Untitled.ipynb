{
 "cells": [
  {
   "cell_type": "code",
   "execution_count": 1,
   "id": "f4199156",
   "metadata": {},
   "outputs": [],
   "source": [
    "import pandas as pd"
   ]
  },
  {
   "cell_type": "code",
   "execution_count": 2,
   "id": "6270899e",
   "metadata": {},
   "outputs": [],
   "source": [
    "df=pd.read_csv('character.csv')"
   ]
  },
  {
   "cell_type": "code",
   "execution_count": 3,
   "id": "c7745d31",
   "metadata": {},
   "outputs": [
    {
     "data": {
      "text/html": [
       "<div>\n",
       "<style scoped>\n",
       "    .dataframe tbody tr th:only-of-type {\n",
       "        vertical-align: middle;\n",
       "    }\n",
       "\n",
       "    .dataframe tbody tr th {\n",
       "        vertical-align: top;\n",
       "    }\n",
       "\n",
       "    .dataframe thead th {\n",
       "        text-align: right;\n",
       "    }\n",
       "</style>\n",
       "<table border=\"1\" class=\"dataframe\">\n",
       "  <thead>\n",
       "    <tr style=\"text-align: right;\">\n",
       "      <th></th>\n",
       "      <th>Original Name</th>\n",
       "      <th>English Name</th>\n",
       "      <th>Gender</th>\n",
       "      <th>Age</th>\n",
       "      <th>Birth Date</th>\n",
       "      <th>First Appearance</th>\n",
       "      <th>Role</th>\n",
       "      <th>Occupation</th>\n",
       "      <th>Personality</th>\n",
       "      <th>Likes</th>\n",
       "      <th>Dislikes</th>\n",
       "      <th>Best Friends</th>\n",
       "      <th>Rivals</th>\n",
       "      <th>Family Members</th>\n",
       "      <th>Voice Actor (JP)</th>\n",
       "      <th>Voice Actor (EN)</th>\n",
       "      <th>Signature Gadget</th>\n",
       "      <th>Catchphrase</th>\n",
       "      <th>Character Designer</th>\n",
       "    </tr>\n",
       "  </thead>\n",
       "  <tbody>\n",
       "    <tr>\n",
       "      <th>0</th>\n",
       "      <td>野原しんのすけ</td>\n",
       "      <td>Shinnosuke 'Shin' Nohara</td>\n",
       "      <td>Male</td>\n",
       "      <td>5</td>\n",
       "      <td>July 22</td>\n",
       "      <td>Manga Vol. 1 (1990)</td>\n",
       "      <td>Protagonist</td>\n",
       "      <td>Kindergarten Student</td>\n",
       "      <td>Mischievous, energetic</td>\n",
       "      <td>Anpan, action shows, beautiful women</td>\n",
       "      <td>Homework, vegetables</td>\n",
       "      <td>Kazama, Nene</td>\n",
       "      <td>Masao, Principal Enoki</td>\n",
       "      <td>Hiroshi (father), Misae (mother), Himawari (si...</td>\n",
       "      <td>Akiko Yajima</td>\n",
       "      <td>Laura Bailey (US dub)</td>\n",
       "      <td>Action Kamen toys</td>\n",
       "      <td>Ora~! (オラ～！)</td>\n",
       "      <td>Yoshito Usui</td>\n",
       "    </tr>\n",
       "    <tr>\n",
       "      <th>1</th>\n",
       "      <td>野原みさえ</td>\n",
       "      <td>Misae Nohara</td>\n",
       "      <td>Female</td>\n",
       "      <td>29</td>\n",
       "      <td>October 10</td>\n",
       "      <td>Manga Vol. 1</td>\n",
       "      <td>Mother</td>\n",
       "      <td>Housewife</td>\n",
       "      <td>Strict but loving</td>\n",
       "      <td>Sales, saving money</td>\n",
       "      <td>Laziness, Shin's antics</td>\n",
       "      <td>Nene's mom</td>\n",
       "      <td>Neighbor Mrs. Matsuzaka</td>\n",
       "      <td>Hiroshi (husband), Shin, Himawari</td>\n",
       "      <td>Miki Narahashi</td>\n",
       "      <td>Megan Hollingshead</td>\n",
       "      <td>Cleaning supplies</td>\n",
       "      <td>Honto ni yoku nashi! (Really, you're hopeless!)</td>\n",
       "      <td>Yoshito Usui</td>\n",
       "    </tr>\n",
       "    <tr>\n",
       "      <th>2</th>\n",
       "      <td>野原ひろし</td>\n",
       "      <td>Hiroshi Nohara</td>\n",
       "      <td>Male</td>\n",
       "      <td>35</td>\n",
       "      <td>April 16</td>\n",
       "      <td>Manga Vol. 1</td>\n",
       "      <td>Father</td>\n",
       "      <td>Salaryman</td>\n",
       "      <td>Goofy, beer-loving</td>\n",
       "      <td>Beer, baseball, naps</td>\n",
       "      <td>Expenses, boss</td>\n",
       "      <td>Misae's brother</td>\n",
       "      <td>Mr. Matsuzaka</td>\n",
       "      <td>Misae (wife), Shin, Himawari</td>\n",
       "      <td>Keiji Fujiwara (1992-2016), Toshiyuki Morikawa...</td>\n",
       "      <td>Michael Sorich</td>\n",
       "      <td>Bicycle</td>\n",
       "      <td>Shūkanka~ (I'm beat...)</td>\n",
       "      <td>Yoshito Usui</td>\n",
       "    </tr>\n",
       "    <tr>\n",
       "      <th>3</th>\n",
       "      <td>野原ひまわり</td>\n",
       "      <td>Himawari Nohara</td>\n",
       "      <td>Female</td>\n",
       "      <td>0</td>\n",
       "      <td>September 27</td>\n",
       "      <td>Episode 1 (1992)</td>\n",
       "      <td>Baby sister</td>\n",
       "      <td>Infant</td>\n",
       "      <td>Cheerful, observant</td>\n",
       "      <td>Shiny objects, milk</td>\n",
       "      <td>Dirty diapers</td>\n",
       "      <td>Shin (sometimes)</td>\n",
       "      <td>NaN</td>\n",
       "      <td>Hiroshi, Misae, Shin</td>\n",
       "      <td>Mari Mashiba</td>\n",
       "      <td>Stephanie Sheh</td>\n",
       "      <td>Pacifier</td>\n",
       "      <td>Acha~! (あちゃ～！)</td>\n",
       "      <td>Yoshito Usui</td>\n",
       "    </tr>\n",
       "    <tr>\n",
       "      <th>4</th>\n",
       "      <td>風間くん</td>\n",
       "      <td>Toru Kazama</td>\n",
       "      <td>Male</td>\n",
       "      <td>5</td>\n",
       "      <td>June 28</td>\n",
       "      <td>Manga Vol. 1</td>\n",
       "      <td>Friend</td>\n",
       "      <td>Kindergarten Student</td>\n",
       "      <td>Intelligent, refined</td>\n",
       "      <td>Studying, foreign culture</td>\n",
       "      <td>Shin's pranks</td>\n",
       "      <td>Nene</td>\n",
       "      <td>Shin (academic rival)</td>\n",
       "      <td>Mother (single parent)</td>\n",
       "      <td>Tamao Hayashi</td>\n",
       "      <td>Brianne Siddall</td>\n",
       "      <td>Encyclopedia</td>\n",
       "      <td>Eleganto ni~ (Let's be elegant)</td>\n",
       "      <td>Yoshito Usui</td>\n",
       "    </tr>\n",
       "  </tbody>\n",
       "</table>\n",
       "</div>"
      ],
      "text/plain": [
       "  Original Name              English Name  Gender Age    Birth Date  \\\n",
       "0       野原しんのすけ  Shinnosuke 'Shin' Nohara    Male   5       July 22   \n",
       "1         野原みさえ              Misae Nohara  Female  29    October 10   \n",
       "2         野原ひろし            Hiroshi Nohara    Male  35      April 16   \n",
       "3        野原ひまわり           Himawari Nohara  Female   0  September 27   \n",
       "4          風間くん               Toru Kazama    Male   5       June 28   \n",
       "\n",
       "      First Appearance         Role            Occupation  \\\n",
       "0  Manga Vol. 1 (1990)  Protagonist  Kindergarten Student   \n",
       "1         Manga Vol. 1       Mother             Housewife   \n",
       "2         Manga Vol. 1       Father             Salaryman   \n",
       "3     Episode 1 (1992)  Baby sister                Infant   \n",
       "4         Manga Vol. 1       Friend  Kindergarten Student   \n",
       "\n",
       "              Personality                                 Likes  \\\n",
       "0  Mischievous, energetic  Anpan, action shows, beautiful women   \n",
       "1       Strict but loving                   Sales, saving money   \n",
       "2      Goofy, beer-loving                  Beer, baseball, naps   \n",
       "3     Cheerful, observant                   Shiny objects, milk   \n",
       "4    Intelligent, refined             Studying, foreign culture   \n",
       "\n",
       "                  Dislikes      Best Friends                   Rivals  \\\n",
       "0     Homework, vegetables      Kazama, Nene   Masao, Principal Enoki   \n",
       "1  Laziness, Shin's antics        Nene's mom  Neighbor Mrs. Matsuzaka   \n",
       "2           Expenses, boss   Misae's brother            Mr. Matsuzaka   \n",
       "3            Dirty diapers  Shin (sometimes)                      NaN   \n",
       "4            Shin's pranks              Nene    Shin (academic rival)   \n",
       "\n",
       "                                      Family Members  \\\n",
       "0  Hiroshi (father), Misae (mother), Himawari (si...   \n",
       "1                  Hiroshi (husband), Shin, Himawari   \n",
       "2                       Misae (wife), Shin, Himawari   \n",
       "3                               Hiroshi, Misae, Shin   \n",
       "4                             Mother (single parent)   \n",
       "\n",
       "                                    Voice Actor (JP)       Voice Actor (EN)  \\\n",
       "0                                       Akiko Yajima  Laura Bailey (US dub)   \n",
       "1                                     Miki Narahashi     Megan Hollingshead   \n",
       "2  Keiji Fujiwara (1992-2016), Toshiyuki Morikawa...         Michael Sorich   \n",
       "3                                       Mari Mashiba         Stephanie Sheh   \n",
       "4                                      Tamao Hayashi        Brianne Siddall   \n",
       "\n",
       "    Signature Gadget                                      Catchphrase  \\\n",
       "0  Action Kamen toys                                     Ora~! (オラ～！)   \n",
       "1  Cleaning supplies  Honto ni yoku nashi! (Really, you're hopeless!)   \n",
       "2            Bicycle                          Shūkanka~ (I'm beat...)   \n",
       "3           Pacifier                                   Acha~! (あちゃ～！)   \n",
       "4       Encyclopedia                  Eleganto ni~ (Let's be elegant)   \n",
       "\n",
       "  Character Designer  \n",
       "0       Yoshito Usui  \n",
       "1       Yoshito Usui  \n",
       "2       Yoshito Usui  \n",
       "3       Yoshito Usui  \n",
       "4       Yoshito Usui  "
      ]
     },
     "execution_count": 3,
     "metadata": {},
     "output_type": "execute_result"
    }
   ],
   "source": [
    "df.head()"
   ]
  },
  {
   "cell_type": "code",
   "execution_count": 4,
   "id": "1dbb446a",
   "metadata": {},
   "outputs": [
    {
     "name": "stdout",
     "output_type": "stream",
     "text": [
      "Requirement already satisfied: ydata_profiling in c:\\users\\shubh\\downloads\\my code\\lib\\site-packages (4.16.1)\n",
      "Requirement already satisfied: scipy<1.16,>=1.4.1 in c:\\users\\shubh\\downloads\\my code\\lib\\site-packages (from ydata_profiling) (1.11.1)\n",
      "Requirement already satisfied: pandas!=1.4.0,<3.0,>1.1 in c:\\users\\shubh\\downloads\\my code\\lib\\site-packages (from ydata_profiling) (2.0.3)\n",
      "Requirement already satisfied: matplotlib<=3.10,>=3.5 in c:\\users\\shubh\\downloads\\my code\\lib\\site-packages (from ydata_profiling) (3.7.2)\n",
      "Requirement already satisfied: pydantic>=2 in c:\\users\\shubh\\downloads\\my code\\lib\\site-packages (from ydata_profiling) (2.11.7)\n",
      "Requirement already satisfied: PyYAML<6.1,>=5.0.0 in c:\\users\\shubh\\downloads\\my code\\lib\\site-packages (from ydata_profiling) (6.0)\n",
      "Requirement already satisfied: jinja2<3.2,>=2.11.1 in c:\\users\\shubh\\downloads\\my code\\lib\\site-packages (from ydata_profiling) (3.1.2)\n",
      "Requirement already satisfied: visions[type_image_path]<0.8.2,>=0.7.5 in c:\\users\\shubh\\downloads\\my code\\lib\\site-packages (from ydata_profiling) (0.8.1)\n",
      "Requirement already satisfied: numpy<2.2,>=1.16.0 in c:\\users\\shubh\\downloads\\my code\\lib\\site-packages (from ydata_profiling) (1.24.3)\n",
      "Requirement already satisfied: htmlmin==0.1.12 in c:\\users\\shubh\\downloads\\my code\\lib\\site-packages (from ydata_profiling) (0.1.12)\n",
      "Requirement already satisfied: phik<0.13,>=0.11.1 in c:\\users\\shubh\\downloads\\my code\\lib\\site-packages (from ydata_profiling) (0.12.5)\n",
      "Requirement already satisfied: requests<3,>=2.24.0 in c:\\users\\shubh\\downloads\\my code\\lib\\site-packages (from ydata_profiling) (2.31.0)\n",
      "Requirement already satisfied: tqdm<5,>=4.48.2 in c:\\users\\shubh\\downloads\\my code\\lib\\site-packages (from ydata_profiling) (4.65.0)\n",
      "Requirement already satisfied: seaborn<0.14,>=0.10.1 in c:\\users\\shubh\\downloads\\my code\\lib\\site-packages (from ydata_profiling) (0.12.2)\n",
      "Requirement already satisfied: multimethod<2,>=1.4 in c:\\users\\shubh\\downloads\\my code\\lib\\site-packages (from ydata_profiling) (1.12)\n",
      "Requirement already satisfied: statsmodels<1,>=0.13.2 in c:\\users\\shubh\\downloads\\my code\\lib\\site-packages (from ydata_profiling) (0.14.0)\n",
      "Requirement already satisfied: typeguard<5,>=3 in c:\\users\\shubh\\downloads\\my code\\lib\\site-packages (from ydata_profiling) (4.4.4)\n",
      "Requirement already satisfied: imagehash==4.3.1 in c:\\users\\shubh\\downloads\\my code\\lib\\site-packages (from ydata_profiling) (4.3.1)\n",
      "Requirement already satisfied: wordcloud>=1.9.3 in c:\\users\\shubh\\downloads\\my code\\lib\\site-packages (from ydata_profiling) (1.9.4)\n",
      "Requirement already satisfied: dacite>=1.8 in c:\\users\\shubh\\downloads\\my code\\lib\\site-packages (from ydata_profiling) (1.9.2)\n",
      "Requirement already satisfied: numba<=0.61,>=0.56.0 in c:\\users\\shubh\\downloads\\my code\\lib\\site-packages (from ydata_profiling) (0.57.1)\n",
      "Requirement already satisfied: PyWavelets in c:\\users\\shubh\\downloads\\my code\\lib\\site-packages (from imagehash==4.3.1->ydata_profiling) (1.4.1)\n",
      "Requirement already satisfied: pillow in c:\\users\\shubh\\downloads\\my code\\lib\\site-packages (from imagehash==4.3.1->ydata_profiling) (9.4.0)\n",
      "Requirement already satisfied: MarkupSafe>=2.0 in c:\\users\\shubh\\downloads\\my code\\lib\\site-packages (from jinja2<3.2,>=2.11.1->ydata_profiling) (2.1.1)\n",
      "Requirement already satisfied: contourpy>=1.0.1 in c:\\users\\shubh\\downloads\\my code\\lib\\site-packages (from matplotlib<=3.10,>=3.5->ydata_profiling) (1.0.5)\n",
      "Requirement already satisfied: cycler>=0.10 in c:\\users\\shubh\\downloads\\my code\\lib\\site-packages (from matplotlib<=3.10,>=3.5->ydata_profiling) (0.11.0)\n",
      "Requirement already satisfied: fonttools>=4.22.0 in c:\\users\\shubh\\downloads\\my code\\lib\\site-packages (from matplotlib<=3.10,>=3.5->ydata_profiling) (4.25.0)\n",
      "Requirement already satisfied: kiwisolver>=1.0.1 in c:\\users\\shubh\\downloads\\my code\\lib\\site-packages (from matplotlib<=3.10,>=3.5->ydata_profiling) (1.4.4)\n",
      "Requirement already satisfied: packaging>=20.0 in c:\\users\\shubh\\downloads\\my code\\lib\\site-packages (from matplotlib<=3.10,>=3.5->ydata_profiling) (23.1)\n",
      "Requirement already satisfied: pyparsing<3.1,>=2.3.1 in c:\\users\\shubh\\downloads\\my code\\lib\\site-packages (from matplotlib<=3.10,>=3.5->ydata_profiling) (3.0.9)\n",
      "Requirement already satisfied: python-dateutil>=2.7 in c:\\users\\shubh\\downloads\\my code\\lib\\site-packages (from matplotlib<=3.10,>=3.5->ydata_profiling) (2.8.2)\n",
      "Requirement already satisfied: llvmlite<0.41,>=0.40.0dev0 in c:\\users\\shubh\\downloads\\my code\\lib\\site-packages (from numba<=0.61,>=0.56.0->ydata_profiling) (0.40.0)\n",
      "Requirement already satisfied: pytz>=2020.1 in c:\\users\\shubh\\downloads\\my code\\lib\\site-packages (from pandas!=1.4.0,<3.0,>1.1->ydata_profiling) (2023.3.post1)\n",
      "Requirement already satisfied: tzdata>=2022.1 in c:\\users\\shubh\\downloads\\my code\\lib\\site-packages (from pandas!=1.4.0,<3.0,>1.1->ydata_profiling) (2023.3)\n",
      "Requirement already satisfied: joblib>=0.14.1 in c:\\users\\shubh\\downloads\\my code\\lib\\site-packages (from phik<0.13,>=0.11.1->ydata_profiling) (1.1.1)\n",
      "Requirement already satisfied: annotated-types>=0.6.0 in c:\\users\\shubh\\downloads\\my code\\lib\\site-packages (from pydantic>=2->ydata_profiling) (0.7.0)\n",
      "Requirement already satisfied: pydantic-core==2.33.2 in c:\\users\\shubh\\downloads\\my code\\lib\\site-packages (from pydantic>=2->ydata_profiling) (2.33.2)\n",
      "Requirement already satisfied: typing-extensions>=4.12.2 in c:\\users\\shubh\\downloads\\my code\\lib\\site-packages (from pydantic>=2->ydata_profiling) (4.14.1)\n",
      "Requirement already satisfied: typing-inspection>=0.4.0 in c:\\users\\shubh\\downloads\\my code\\lib\\site-packages (from pydantic>=2->ydata_profiling) (0.4.1)\n",
      "Requirement already satisfied: charset-normalizer<4,>=2 in c:\\users\\shubh\\downloads\\my code\\lib\\site-packages (from requests<3,>=2.24.0->ydata_profiling) (2.0.4)\n",
      "Requirement already satisfied: idna<4,>=2.5 in c:\\users\\shubh\\downloads\\my code\\lib\\site-packages (from requests<3,>=2.24.0->ydata_profiling) (3.4)\n",
      "Requirement already satisfied: urllib3<3,>=1.21.1 in c:\\users\\shubh\\downloads\\my code\\lib\\site-packages (from requests<3,>=2.24.0->ydata_profiling) (1.26.16)\n",
      "Requirement already satisfied: certifi>=2017.4.17 in c:\\users\\shubh\\downloads\\my code\\lib\\site-packages (from requests<3,>=2.24.0->ydata_profiling) (2023.7.22)\n",
      "Requirement already satisfied: patsy>=0.5.2 in c:\\users\\shubh\\downloads\\my code\\lib\\site-packages (from statsmodels<1,>=0.13.2->ydata_profiling) (0.5.3)\n",
      "Requirement already satisfied: colorama in c:\\users\\shubh\\downloads\\my code\\lib\\site-packages (from tqdm<5,>=4.48.2->ydata_profiling) (0.4.6)\n",
      "Requirement already satisfied: attrs>=19.3.0 in c:\\users\\shubh\\downloads\\my code\\lib\\site-packages (from visions[type_image_path]<0.8.2,>=0.7.5->ydata_profiling) (22.1.0)\n",
      "Requirement already satisfied: networkx>=2.4 in c:\\users\\shubh\\downloads\\my code\\lib\\site-packages (from visions[type_image_path]<0.8.2,>=0.7.5->ydata_profiling) (3.1)\n",
      "Requirement already satisfied: puremagic in c:\\users\\shubh\\downloads\\my code\\lib\\site-packages (from visions[type_image_path]<0.8.2,>=0.7.5->ydata_profiling) (1.30)\n",
      "Requirement already satisfied: six in c:\\users\\shubh\\downloads\\my code\\lib\\site-packages (from patsy>=0.5.2->statsmodels<1,>=0.13.2->ydata_profiling) (1.16.0)\n"
     ]
    },
    {
     "name": "stderr",
     "output_type": "stream",
     "text": [
      "WARNING: visions 0.8.1 does not provide the extra 'type_image_path'\n"
     ]
    }
   ],
   "source": [
    "!pip install ydata_profiling"
   ]
  },
  {
   "cell_type": "code",
   "execution_count": 9,
   "id": "6c603075",
   "metadata": {},
   "outputs": [
    {
     "name": "stderr",
     "output_type": "stream",
     "text": [
      "C:\\Users\\shubh\\Downloads\\my code\\Lib\\site-packages\\ydata_profiling\\profile_report.py:365: UserWarning: Try running command: 'pip install --upgrade Pillow' to avoid ValueError\n",
      "  warnings.warn(\n"
     ]
    },
    {
     "data": {
      "application/vnd.jupyter.widget-view+json": {
       "model_id": "f2faafc4c7fd4c949dd23bf9d0acc6c9",
       "version_major": 2,
       "version_minor": 0
      },
      "text/plain": [
       "Summarize dataset:   0%|          | 0/5 [00:00<?, ?it/s]"
      ]
     },
     "metadata": {},
     "output_type": "display_data"
    },
    {
     "name": "stderr",
     "output_type": "stream",
     "text": [
      "\n",
      "100%|██████████| 19/19 [00:00<?, ?it/s][A\n"
     ]
    },
    {
     "data": {
      "application/vnd.jupyter.widget-view+json": {
       "model_id": "f972d1be6d784435bdf24a4fd25528e3",
       "version_major": 2,
       "version_minor": 0
      },
      "text/plain": [
       "Generate report structure:   0%|          | 0/1 [00:00<?, ?it/s]"
      ]
     },
     "metadata": {},
     "output_type": "display_data"
    },
    {
     "data": {
      "application/vnd.jupyter.widget-view+json": {
       "model_id": "76c3394706544e18a12a30053f8979ca",
       "version_major": 2,
       "version_minor": 0
      },
      "text/plain": [
       "Render HTML:   0%|          | 0/1 [00:00<?, ?it/s]"
      ]
     },
     "metadata": {},
     "output_type": "display_data"
    },
    {
     "data": {
      "application/vnd.jupyter.widget-view+json": {
       "model_id": "d727a34e42bc482287a32dbb029ca1c1",
       "version_major": 2,
       "version_minor": 0
      },
      "text/plain": [
       "Export report to file:   0%|          | 0/1 [00:00<?, ?it/s]"
      ]
     },
     "metadata": {},
     "output_type": "display_data"
    }
   ],
   "source": [
    "from ydata_profiling import ProfileReport\n",
    "prof=ProfileReport(df)\n",
    "prof.to_file(output_file='character.html')"
   ]
  },
  {
   "cell_type": "code",
   "execution_count": null,
   "id": "2160d03a",
   "metadata": {},
   "outputs": [],
   "source": []
  }
 ],
 "metadata": {
  "kernelspec": {
   "display_name": "Python 3 (ipykernel)",
   "language": "python",
   "name": "python3"
  },
  "language_info": {
   "codemirror_mode": {
    "name": "ipython",
    "version": 3
   },
   "file_extension": ".py",
   "mimetype": "text/x-python",
   "name": "python",
   "nbconvert_exporter": "python",
   "pygments_lexer": "ipython3",
   "version": "3.11.5"
  }
 },
 "nbformat": 4,
 "nbformat_minor": 5
}
